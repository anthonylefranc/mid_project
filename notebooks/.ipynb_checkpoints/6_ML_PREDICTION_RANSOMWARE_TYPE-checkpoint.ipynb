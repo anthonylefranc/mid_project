{
 "cells": [
  {
   "cell_type": "code",
   "execution_count": null,
   "id": "99681798",
   "metadata": {},
   "outputs": [],
   "source": []
  },
  {
   "cell_type": "code",
   "execution_count": 1,
   "id": "acd257ca",
   "metadata": {},
   "outputs": [],
   "source": [
    "import pandas as pd\n",
    "import numpy as np\n",
    "import re\n",
    "import matplotlib.pyplot as plt\n",
    "import seaborn as sns\n",
    "import sys\n",
    "import scipy\n",
    "import math\n",
    "import sklearn"
   ]
  },
  {
   "cell_type": "code",
   "execution_count": null,
   "id": "2c46e6ed",
   "metadata": {},
   "outputs": [],
   "source": [
    "df_ransomware = pd.read_csv('..\\data\\cleaned\\clean_dataset.csv')"
   ]
  },
  {
   "cell_type": "code",
   "execution_count": null,
   "id": "125480ff",
   "metadata": {},
   "outputs": [],
   "source": [
    "#we will try to prediect the next, most probable type of ransomware used in 2024\n",
    "\n",
    "# 1/ DATA PROCESSING\n",
    "# \"Revenue\" & \"ransom_cost\" columns contain a lot of missing values (NaNs) which will not be tolerated by our model,\n",
    "# we need to get rid of these columns first\n",
    "# \"ransomware\" also has 4 NaNs, here we will drop the rows in order to keep a dataset as larg as possible\n",
    "\n",
    "\n",
    "df_ransomware.dtypes\n"
   ]
  },
  {
   "cell_type": "code",
   "execution_count": null,
   "id": "7cf7a959",
   "metadata": {},
   "outputs": [],
   "source": [
    "# Drop the \"revenue\" and \"ransom_cost\" columns\n",
    "df_ransomware = df_ransomware.drop(columns=['revenue', 'ransom_cost'])\n",
    "\n",
    "# Drop rows containing NaN values in the \"ransomware\" column\n",
    "df_ransomware = df_ransomware.dropna(subset=['ransomware'])\n"
   ]
  },
  {
   "cell_type": "code",
   "execution_count": null,
   "id": "d23d0ada",
   "metadata": {},
   "outputs": [],
   "source": [
    "X = df_ransomware.drop(['ransomware'],axis=1)\n",
    "y = df_ransomware['ransomware']\n",
    "\n",
    "from sklearn.model_selection import train_test_split\n",
    "\n",
    "X_train, X_test, y_train, y_test = train_test_split(X, y, test_size=0.3, random_state=56)\n",
    "\n",
    "#fetch numerical column (year)\n",
    "numericals_train = X_train.select_dtypes(np.number)\n",
    "numericals_test = X_test.select_dtypes(np.number)\n",
    "numericals_train.head()\n",
    "\n",
    "#Convert year with MinMAxScaler\n",
    "from sklearn.preprocessing import MinMaxScaler\n",
    "\n",
    "scaler = MinMaxScaler() \n",
    "scaler.fit(numerical_cols)\n",
    "numericals_train_standardized = scaler.transform(numericals_train)\n",
    "numericals_test_standardized = scaler.transform(numericals_test)\n",
    "\n",
    "numericals_train_standardized = pd.DataFrame(numericals_train_standardized, columns = numericals_train.columns, index=numericals_train.index)\n",
    "numericals_test_standardized  = pd.DataFrame(numericals_test_standardized,  columns = numericals_test.columns, index=numericals_test.index  )\n",
    "display(numericals_train_standardized.head())\n",
    "\n",
    "# fetch categorical columns\n",
    "\n",
    "categoricals_train= X_train.select_dtypes(object)\n",
    "categoricals_test= X_test.select_dtypes(object)\n",
    "categoricals_train.head()\n",
    "\n",
    "from sklearn.preprocessing import OneHotEncoder\n",
    "\n",
    "encoder = OneHotEncoder(handle_unknown='error', drop='first')\n",
    "encoder.fit(categoricals_train)\n",
    "\n",
    "categoricals_train_encoded = encoder.transform(categoricals_train).toarray()\n",
    "categoricals_test_encoded  = encoder.transform(categoricals_test).toarray()\n",
    "\n",
    "categoricals_train_encoded = pd.DataFrame(categoricals_train_encoded, columns=encoder.get_feature_names_out(), index=categoricals_train.index)\n",
    "categoricals_test_encoded  = pd.DataFrame(categoricals_test_encoded, columns=encoder.get_feature_names_out(),  index=categoricals_test.index)\n",
    "display(categoricals_train_encoded.head())\n"
   ]
  },
  {
   "cell_type": "code",
   "execution_count": null,
   "id": "1799cbfd",
   "metadata": {
    "scrolled": true
   },
   "outputs": [],
   "source": [
    "import sys\n",
    "sys.path.append('\\venv\\lib\\site-packages')\n"
   ]
  },
  {
   "cell_type": "code",
   "execution_count": null,
   "id": "f939120c",
   "metadata": {},
   "outputs": [],
   "source": [
    "from sklearn.linear_model import LinearRegression\n",
    "from sklearn.model_selection import train_test_split"
   ]
  },
  {
   "cell_type": "code",
   "execution_count": null,
   "id": "4c28de38",
   "metadata": {},
   "outputs": [],
   "source": []
  },
  {
   "cell_type": "code",
   "execution_count": null,
   "id": "37d59a23",
   "metadata": {},
   "outputs": [],
   "source": []
  },
  {
   "cell_type": "code",
   "execution_count": null,
   "id": "92a72937",
   "metadata": {},
   "outputs": [],
   "source": []
  },
  {
   "cell_type": "code",
   "execution_count": null,
   "id": "d559d1ac",
   "metadata": {},
   "outputs": [],
   "source": []
  },
  {
   "cell_type": "code",
   "execution_count": null,
   "id": "9bf79bb0",
   "metadata": {},
   "outputs": [],
   "source": []
  },
  {
   "cell_type": "code",
   "execution_count": null,
   "id": "6e55b86a",
   "metadata": {},
   "outputs": [],
   "source": []
  }
 ],
 "metadata": {
  "kernelspec": {
   "display_name": "new_env",
   "language": "python",
   "name": "new_env"
  },
  "language_info": {
   "codemirror_mode": {
    "name": "ipython",
    "version": 3
   },
   "file_extension": ".py",
   "mimetype": "text/x-python",
   "name": "python",
   "nbconvert_exporter": "python",
   "pygments_lexer": "ipython3",
   "version": "3.11.5"
  }
 },
 "nbformat": 4,
 "nbformat_minor": 5
}
